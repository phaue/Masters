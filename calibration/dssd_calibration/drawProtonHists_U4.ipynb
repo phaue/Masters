{
 "cells": [
  {
   "cell_type": "code",
   "execution_count": 1,
   "metadata": {},
   "outputs": [],
   "source": [
    "# prerequisite: \n",
    "# run \n",
    "#      ./printEnergyCorrections -s ../../setup/setup.json -t ../../setup/target.json -d U4,U5 -E {insert peaks one wishes to fit after} -i {implantation depth of given isotope} > {filename}.dat\n",
    "# with data output to\n",
    "#      \"correctedEnergiesU4U5.dat\""
   ]
  },
  {
   "cell_type": "code",
   "execution_count": 2,
   "metadata": {},
   "outputs": [],
   "source": [
    "import numpy as np\n",
    "import uproot\n",
    "import matplotlib.pyplot as plt"
   ]
  },
  {
   "cell_type": "code",
   "execution_count": 3,
   "metadata": {},
   "outputs": [
    {
     "name": "stdout",
     "output_type": "stream",
     "text": [
      "56.0\n"
     ]
    }
   ],
   "source": [
    "#load in generated file from above\n",
    "Es = np.loadtxt('/home/haue/repositories/Masters/calibration/dssd_calibration/U4_sipeaks_corrected.dat').flatten()\n",
    "print(len(Es)/4)"
   ]
  },
  {
   "cell_type": "code",
   "execution_count": 4,
   "metadata": {},
   "outputs": [],
   "source": [
    "from scipy.optimize import curve_fit\n",
    "def lin(x, a, b):\n",
    "    return a*x + b"
   ]
  },
  {
   "cell_type": "code",
   "execution_count": 5,
   "metadata": {},
   "outputs": [
    {
     "name": "stdout",
     "output_type": "stream",
     "text": [
      "[375.797, 897.771, 1839.29, 2073.12, 2213.97, 3335.14, 4086.97, 5400.78]\n",
      "[375.988, 897.894, 1839.37, 2073.19, 2214.04, 3335.19, 4087.01, 5400.82]\n",
      "[376.141, 897.993, 1839.43, 2073.25, 2214.1, 3335.24, 4087.05, 5400.85]\n",
      "[376.252, 898.066, 1839.48, 2073.3, 2214.14, 3335.27, 4087.07, 5400.87]\n",
      "[376.315, 898.11, 1839.51, 2073.32, 2214.17, 3335.29, 4087.09, 5400.88]\n",
      "[376.326, 898.121, 1839.51, 2073.33, 2214.18, 3335.29, 4087.1, 5400.89]\n",
      "[376.279, 898.096, 1839.5, 2073.32, 2214.16, 3335.28, 4087.09, 5400.88]\n",
      "[376.167, 898.032, 1839.46, 2073.28, 2214.13, 3335.26, 4087.07, 5400.86]\n",
      "[375.983, 897.924, 1839.4, 2073.22, 2214.07, 3335.22, 4087.03, 5400.84]\n",
      "[375.719, 897.767, 1839.3, 2073.14, 2213.99, 3335.16, 4086.98, 5400.79]\n",
      "[375.362, 897.554, 1839.17, 2073.02, 2213.87, 3335.07, 4086.91, 5400.73]\n",
      "[374.897, 897.276, 1839.01, 2072.86, 2213.72, 3334.96, 4086.82, 5400.66]\n",
      "[374.303, 896.921, 1838.79, 2072.66, 2213.53, 3334.82, 4086.7, 5400.56]\n",
      "[373.545, 896.47, 1838.52, 2072.41, 2213.29, 3334.64, 4086.54, 5400.43]\n",
      "[374.118, 896.779, 1838.69, 2072.57, 2213.44, 3334.75, 4086.64, 5400.51]\n",
      "[374.461, 896.992, 1838.83, 2072.69, 2213.56, 3334.84, 4086.71, 5400.57]\n",
      "[374.767, 897.181, 1838.94, 2072.8, 2213.67, 3334.91, 4086.78, 5400.62]\n",
      "[375.034, 897.347, 1839.04, 2072.9, 2213.76, 3334.98, 4086.83, 5400.67]\n",
      "[375.259, 897.486, 1839.13, 2072.98, 2213.83, 3335.04, 4086.88, 5400.71]\n",
      "[375.438, 897.597, 1839.2, 2073.04, 2213.9, 3335.09, 4086.92, 5400.74]\n",
      "[375.569, 897.678, 1839.25, 2073.09, 2213.94, 3335.12, 4086.95, 5400.77]\n",
      "[375.651, 897.729, 1839.28, 2073.12, 2213.97, 3335.14, 4086.97, 5400.78]\n",
      "[375.682, 897.748, 1839.29, 2073.13, 2213.98, 3335.15, 4086.97, 5400.79]\n",
      "[375.661, 897.735, 1839.29, 2073.12, 2213.97, 3335.14, 4086.97, 5400.78]\n",
      "[375.589, 897.69, 1839.26, 2073.09, 2213.95, 3335.12, 4086.95, 5400.77]\n",
      "[375.467, 897.615, 1839.21, 2073.05, 2213.91, 3335.09, 4086.93, 5400.75]\n",
      "[375.297, 897.51, 1839.15, 2072.99, 2213.85, 3335.05, 4086.89, 5400.72]\n",
      "[375.081, 897.376, 1839.06, 2072.91, 2213.77, 3334.99, 4086.84, 5400.68]\n"
     ]
    }
   ],
   "source": [
    "\"\"\"\n",
    "([(385.72237105453763, 0.5786771607068808),\n",
    "  (1843.1815428519299, 3.8391338032060935),\n",
    "  (2217.4549852704345, 1.9202145004587217),\n",
    "  (4651.192036484095, 4.798722937645029),\n",
    "  (5402.617947801247, 1.9202145004587354)],\n",
    " [(904.0191131421628, 1.920220495723927),\n",
    "  (2076.7425660534773, 3.8391368018535106),\n",
    "  (3337.756164355824, 4.798725336660437),\n",
    "  (4089.1820756729758, 1.920220495723936)],\n",
    " (1730.8841553184843, 3.8391483166378255),\n",
    "\"\"\"\n",
    "nums =  [\"4\"]\n",
    "sides = [\"F\", \"B\"]\n",
    "Es0 = np.array([385.72,904.02, 1843.18,2076.74,2217.45,3337.75,4089.18,5402.61])\n",
    "Es0_errs = np.array([0.58,1.92, 3.84, 3.84, 1.92, 4.79, 1.92, 1.92])\n",
    "\n",
    "j = 0\n",
    "for num in nums:\n",
    "        for side in sides:\n",
    "            for strip in range(2, 15+1, 1):\n",
    "                \n",
    "                print([Es[8*j+i] for i in range(len(Es0))])\n",
    "                j += 1"
   ]
  },
  {
   "cell_type": "code",
   "execution_count": 7,
   "metadata": {
    "scrolled": false
   },
   "outputs": [
    {
     "name": "stdout",
     "output_type": "stream",
     "text": [
      "# Front\n",
      "0 0\n",
      "-33.91776207253419 3.504569350779493\n",
      "-40.36762178563546 3.6169498296313547\n",
      "-34.57533437908256 3.5079809997994227\n",
      "-35.86534009074773 3.7139353520927125\n",
      "-27.710048460223916 3.538902949484369\n",
      "-40.62954450129258 3.6581893994702144\n",
      "-32.03876078890981 3.6159117713524163\n",
      "-27.415296187261458 3.6019759058938026\n",
      "-19.96853818314437 3.700160398538857\n",
      "-30.18265753338627 3.6517425862108372\n",
      "-27.302474173754494 3.7605231866243334\n",
      "-30.15028731435201 3.604955493313214\n",
      "-29.74890384571252 3.538906266888517\n",
      "-24.74358611243713 3.720807375124213\n",
      "0 0\n",
      "# Back\n",
      "0 0\n",
      "-38.888019128983146 3.5265869437403765\n",
      "-32.20318617223738 3.626779866419441\n",
      "-31.95419316857937 3.567083796022153\n",
      "-30.52836152669454 3.6525228184371947\n",
      "-37.35206111004597 3.5257125524740354\n",
      "-36.364656859370726 3.7415071945506444\n",
      "-28.99058441663953 3.780781684815327\n",
      "-31.172632951793805 3.6627182828818476\n",
      "-38.58235580046643 3.5715752152490277\n",
      "-39.56594270631414 3.6636780129445565\n",
      "-36.25273293535571 3.6719218421366593\n",
      "-32.9572516659095 3.608371020659\n",
      "-43.96570963707424 3.5820387481145106\n",
      "-34.457473944674256 3.6235675851061493\n",
      "0 0\n"
     ]
    }
   ],
   "source": [
    "dead_strips = [\"U5F2\"]\n",
    "\n",
    "nums =  [\"4\"]\n",
    "sides = [\"F\", \"B\"]\n",
    "j = 0\n",
    "res0 = res = np.array([])\n",
    "with uproot.open(\"/home/haue/repositories/Masters/data/cal/pha.root\") as file:\n",
    "    for num in nums:\n",
    "        for side in sides:\n",
    "            if side == \"F\":\n",
    "                print(\"# Front\")\n",
    "            else:\n",
    "                print(\"# Back\")\n",
    "            for strip in range(1, 16+1, 1):\n",
    "                if strip == 1 or strip == 16:\n",
    "                    print(0, 0)\n",
    "                    continue\n",
    "                base = \"U\" + num + side + str(strip)\n",
    "                #skip dead strips\n",
    "                if base in dead_strips:\n",
    "                    print(0, 0)\n",
    "                    j += 1\n",
    "                    continue\n",
    "                # data\n",
    "                y1, x1 = file[base].to_numpy()\n",
    "                x0 = np.min(x1) ## starting bin, in this case just 90\n",
    "                x1 = x1[:-1] + 0.5\n",
    "                # tspectrum\n",
    "                y2, x2 = file[base + \"A\"].to_numpy()\n",
    "                x2 = x2[:-1] + 0.5 + x0\n",
    "                # peak positions, in found order\n",
    "                x3, y3 = file[base + \"P\"].values()\n",
    "                x3 = x3 + x0\n",
    "                # fitted peak positions and their errors\n",
    "                fx, fx_err = file[base + \"F\"].values()\n",
    "\n",
    "                \n",
    "                # peak positions, sorted xmin to xmax\n",
    "                x3_sortedx = x3[np.argsort(x3)] # sorted by low to high x\n",
    "                y3_sortedx = y3[np.argsort(x3)]\n",
    "                fx = fx[np.argsort(fx)]\n",
    "                fx_err = fx_err[np.argsort(fx)]\n",
    "                \n",
    "                if len(x3_sortedx)!=len(fx):\n",
    "                    raise ValueError(f\"Length mismatch: len(x3_sortedx)={len(x3_sortedx)} is not equal to len(fx)={len(fx)}, somehow the fitting procedure messed up..\")\n",
    "\n",
    "\n",
    "\n",
    "                # proton peaks pV, pVI, ..., pVIII\n",
    "                while len(x3_sortedx)>len(Es0):\n",
    "                    min_y_index = np.argmin(y3_sortedx)\n",
    "                    x3_sortedx = np.delete(x3_sortedx,min_y_index)\n",
    "                    y3_sortedx = np.delete(y3_sortedx,min_y_index)\n",
    "                    fx = np.delete(fx,min_y_index)\n",
    "                    fx_err = np.delete(fx_err,min_y_index)\n",
    "                    \n",
    "                \n",
    "                ### the gaussian fitting routine is very simple and therefore one should expect errors\n",
    "                ### This would explain why x3_sortedx is the better parameter to use for now\n",
    "                #chs = fx\n",
    "                chs = x3_sortedx\n",
    "                popt0, pcov0 = curve_fit(lin, chs, Es0, sigma=Es0_errs, p0=[2, 0])\n",
    "                Ecs = np.array([Es[8*j+i] for i in range(len(x3_sortedx))])\n",
    "                popt, pcov = curve_fit(lin, chs, Ecs, sigma=Es0_errs, p0=[2, 0])\n",
    "                \n",
    "                res0 = np.append(res0, Es0 - lin(chs, *popt0)) ## not energy corrected peak energies\n",
    "                res  = np.append(res, Ecs - lin(chs, *popt)) ## energy corrected peak energies ! the most important one!\n",
    "                \n",
    "                ######################################################################################################################\n",
    "                ## plotting routine for quality control\n",
    "                \"\"\"\n",
    "                fig, axes = plt.subplots(2, 1,gridspec_kw={'height_ratios': [4, 1], 'hspace': 0}, sharex=True)\n",
    "                ax1, ax2 = axes\n",
    "                #plt.sca(axes[0]) ## sets current axes\n",
    "                ax1.errorbar(chs, Ecs, yerr=Es0_errs, capsize=2, marker='o',markersize=3.5, ls='', color='r', label=\"Data points\")\n",
    "                ax1.plot([50, 2000], lin(np.array([50, 2000]), *popt), label=f\"fit vals: {np.round(popt[1],6)} {np.round(popt[0],6)}\", color='k', ls='--')\n",
    "                ax1.legend()\n",
    "                ax1.set_ylabel(\"Energy(keV)\")\n",
    "                ax1.set_title(f\"Linear fit to {base}\")\n",
    "                #plt.sca(axes[1])\n",
    "                ax2.scatter(chs, Ecs - lin(chs, *popt), color='k', s=8)\n",
    "                ax2.hlines(0,50,2000, ls='--', color='k', lw=0.7)\n",
    "                ax2.set_yticks(np.arange(-10,10, 2.5), minor=True)\n",
    "                ax2.set_ylim(-np.max(np.abs(Ecs - lin(chs, *popt)))-2, np.max(np.abs(Ecs - lin(chs, *popt)))+2)\n",
    "                \n",
    "                ax2.set_ylabel(\"Residuals (keV)\")\n",
    "                ax2.set_xlabel(\"Channel\")\n",
    "                \n",
    "                plt.show()\n",
    "                \n",
    "                \n",
    "                \"\"\"\n",
    "                #### output\n",
    "                print(popt[1], popt[0])\n",
    "                j += 1\n"
   ]
  },
  {
   "cell_type": "code",
   "execution_count": null,
   "metadata": {},
   "outputs": [],
   "source": [
    "np.savetxt(\"res_proton_uncorrected.dat\", res0)\n",
    "np.savetxt(\"res_proton_corrected.dat\", res)"
   ]
  },
  {
   "cell_type": "code",
   "execution_count": null,
   "metadata": {},
   "outputs": [],
   "source": []
  }
 ],
 "metadata": {
  "kernelspec": {
   "display_name": "Python 3",
   "language": "python",
   "name": "python3"
  },
  "language_info": {
   "codemirror_mode": {
    "name": "ipython",
    "version": 3
   },
   "file_extension": ".py",
   "mimetype": "text/x-python",
   "name": "python",
   "nbconvert_exporter": "python",
   "pygments_lexer": "ipython3",
   "version": "3.10.6"
  }
 },
 "nbformat": 4,
 "nbformat_minor": 4
}
