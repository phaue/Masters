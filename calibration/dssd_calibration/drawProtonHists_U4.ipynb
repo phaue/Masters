{
 "cells": [
  {
   "cell_type": "code",
   "execution_count": 13,
   "metadata": {},
   "outputs": [],
   "source": [
    "# prerequisite: \n",
    "# run \n",
    "#      ./printEnergyCorrections -s ../../setup/setup.json -t ../../setup/target.json -d U4,U5 -E {insert peaks one wishes to fit after} -i {implantation depth of given isotope} > {filename}.dat\n",
    "# with data output to\n",
    "#      \"correctedEnergiesU4U5.dat\""
   ]
  },
  {
   "cell_type": "code",
   "execution_count": 14,
   "metadata": {},
   "outputs": [],
   "source": [
    "import numpy as np\n",
    "import uproot\n",
    "import matplotlib.pyplot as plt"
   ]
  },
  {
   "cell_type": "code",
   "execution_count": 15,
   "metadata": {},
   "outputs": [
    {
     "name": "stdout",
     "output_type": "stream",
     "text": [
      "56.0\n"
     ]
    }
   ],
   "source": [
    "#load in generated file from above\n",
    "Es = np.loadtxt('/home/haue/repositories/Masters/calibration/dssd_calibration/U4EE.dat').flatten()\n",
    "print(len(Es)/4)"
   ]
  },
  {
   "cell_type": "code",
   "execution_count": 16,
   "metadata": {},
   "outputs": [],
   "source": [
    "from scipy.optimize import curve_fit\n",
    "def lin(x, a, b):\n",
    "    return a*x + b"
   ]
  },
  {
   "cell_type": "code",
   "execution_count": 17,
   "metadata": {},
   "outputs": [
    {
     "name": "stdout",
     "output_type": "stream",
     "text": [
      "[375.972, 897.867, 1839.36, 2073.19, 2214.04, 3335.19, 4087.0, 5400.81]\n",
      "[376.119, 897.98, 1839.43, 2073.24, 2214.09, 3335.23, 4087.04, 5400.84]\n",
      "[376.223, 898.065, 1839.47, 2073.28, 2214.13, 3335.26, 4087.07, 5400.86]\n",
      "[376.282, 898.085, 1839.49, 2073.32, 2214.16, 3335.28, 4087.08, 5400.88]\n",
      "[376.288, 898.109, 1839.51, 2073.32, 2214.17, 3335.29, 4087.09, 5400.88]\n",
      "[376.249, 898.072, 1839.49, 2073.31, 2214.15, 3335.28, 4087.09, 5400.88]\n",
      "[376.125, 898.006, 1839.45, 2073.28, 2214.12, 3335.24, 4087.06, 5400.86]\n",
      "[375.951, 897.901, 1839.39, 2073.21, 2214.07, 3335.21, 4087.03, 5400.83]\n",
      "[375.66, 897.743, 1839.3, 2073.12, 2213.97, 3335.14, 4086.97, 5400.78]\n",
      "[375.272, 897.522, 1839.15, 2073.0, 2213.86, 3335.06, 4086.9, 5400.72]\n",
      "[374.821, 897.222, 1838.98, 2072.83, 2213.7, 3334.95, 4086.81, 5400.65]\n",
      "[374.228, 896.874, 1838.76, 2072.63, 2213.51, 3334.81, 4086.68, 5400.54]\n",
      "[373.491, 896.422, 1838.48, 2072.38, 2213.26, 3334.61, 4086.52, 5400.42]\n",
      "[372.469, 895.797, 1838.12, 2072.04, 2212.94, 3334.38, 4086.32, 5400.25]\n",
      "[374.58, 897.042, 1838.84, 2072.69, 2213.56, 3334.85, 4086.71, 5400.56]\n",
      "[374.893, 897.185, 1838.94, 2072.84, 2213.69, 3334.93, 4086.77, 5400.64]\n",
      "[375.104, 897.365, 1839.04, 2072.91, 2213.77, 3335.0, 4086.83, 5400.67]\n",
      "[375.329, 897.538, 1839.15, 2072.99, 2213.85, 3335.05, 4086.89, 5400.71]\n",
      "[375.5, 897.61, 1839.22, 2073.05, 2213.91, 3335.09, 4086.92, 5400.75]\n",
      "[375.56, 897.705, 1839.26, 2073.09, 2213.95, 3335.11, 4086.95, 5400.77]\n",
      "[375.708, 897.745, 1839.31, 2073.12, 2213.99, 3335.14, 4086.99, 5400.78]\n",
      "[375.675, 897.748, 1839.32, 2073.13, 2213.97, 3335.16, 4086.97, 5400.79]\n",
      "[375.735, 897.781, 1839.3, 2073.12, 2213.99, 3335.15, 4086.97, 5400.79]\n",
      "[375.496, 897.687, 1839.27, 2073.09, 2213.96, 3335.13, 4086.97, 5400.78]\n",
      "[375.509, 897.626, 1839.21, 2073.06, 2213.91, 3335.11, 4086.93, 5400.75]\n",
      "[375.327, 897.502, 1839.15, 2073.01, 2213.87, 3335.07, 4086.91, 5400.73]\n",
      "[375.183, 897.399, 1839.08, 2072.93, 2213.77, 3335.01, 4086.85, 5400.67]\n",
      "[374.794, 897.193, 1838.97, 2072.81, 2213.71, 3334.93, 4086.79, 5400.64]\n"
     ]
    }
   ],
   "source": [
    "\"\"\"\n",
    "([(385.72237105453763, 0.5786771607068808),\n",
    "  (1843.1815428519299, 3.8391338032060935),\n",
    "  (2217.4549852704345, 1.9202145004587217),\n",
    "  (4651.192036484095, 4.798722937645029),\n",
    "  (5402.617947801247, 1.9202145004587354)],\n",
    " [(904.0191131421628, 1.920220495723927),\n",
    "  (2076.7425660534773, 3.8391368018535106),\n",
    "  (3337.756164355824, 4.798725336660437),\n",
    "  (4089.1820756729758, 1.920220495723936)],\n",
    " (1730.8841553184843, 3.8391483166378255),\n",
    "\"\"\"\n",
    "nums =  [\"4\"]\n",
    "sides = [\"F\", \"B\"]\n",
    "Es0 = np.array([385.72,904.02, 1843.18,2076.74,2217.45,3337.75,4089.18,5402.61])\n",
    "Es0_errs = np.array([0.58,1.92, 3.84, 3.84, 1.92, 4.79, 1.92, 1.92])\n",
    "\n",
    "j = 0\n",
    "for num in nums:\n",
    "        for side in sides:\n",
    "            for strip in range(2, 15+1, 1):\n",
    "                \n",
    "                print([Es[8*j+i] for i in range(len(Es0))])\n",
    "                j += 1"
   ]
  },
  {
   "cell_type": "code",
   "execution_count": 18,
   "metadata": {
    "scrolled": false
   },
   "outputs": [
    {
     "name": "stdout",
     "output_type": "stream",
     "text": [
      "# Front\n",
      "0 0\n",
      "-33.73685837352429 3.504450025863275\n",
      "-40.231066976364794 3.6168583002339547\n",
      "-34.48847805425089 3.5079239566955582\n",
      "-35.834408704080815 3.7139183090529726\n",
      "-27.736944945125966 3.538926304653249\n",
      "-40.70991056872542 3.658247711535433\n",
      "-32.19778339423534 3.6160250954398108\n",
      "-27.63865438338287 3.6021336901026046\n",
      "-20.299969770428106 3.700394474576959\n",
      "-30.642877983507343 3.652069884885795\n",
      "-27.86258128956532 3.7609311541808754\n",
      "-30.840618575572265 3.6054251380141853\n",
      "-30.58790909875481 3.539462559695301\n",
      "-25.85568011662598 3.72159223263409\n",
      "0 0\n",
      "# Back\n",
      "0 0\n",
      "-38.409444230051 3.526244828894135\n",
      "-31.761244339727963 3.6264628317467884\n",
      "-31.60674536512629 3.566839318878601\n",
      "-30.222088366563327 3.652306248309729\n",
      "-37.103951138508094 3.525543424053272\n",
      "-36.236332199695326 3.7414238504620743\n",
      "-28.847476166601194 3.7806765924976515\n",
      "-31.147706202686923 3.662702310845426\n",
      "-38.526861890069995 3.571529137550116\n",
      "-39.73457362774729 3.6638245010377526\n",
      "-36.336644823212836 3.671974267432517\n",
      "-33.10453839610112 3.608475964298094\n",
      "-44.08548954212174 3.5820958847875595\n",
      "-34.75482006955039 3.6237817950112485\n",
      "0 0\n"
     ]
    }
   ],
   "source": [
    "dead_strips = [\"U5F2\"]\n",
    "\n",
    "nums =  [\"4\"]\n",
    "sides = [\"F\", \"B\"]\n",
    "j = 0\n",
    "res0 = res = np.array([])\n",
    "with uproot.open(\"/home/haue/repositories/Masters/data/cal/pha.root\") as file:\n",
    "    for num in nums:\n",
    "        for side in sides:\n",
    "            if side == \"F\":\n",
    "                print(\"# Front\")\n",
    "            else:\n",
    "                print(\"# Back\")\n",
    "            for strip in range(1, 16+1, 1):\n",
    "                if strip == 1 or strip == 16:\n",
    "                    print(0, 0)\n",
    "                    continue\n",
    "                base = \"U\" + num + side + str(strip)\n",
    "                #skip dead strips\n",
    "                if base in dead_strips:\n",
    "                    print(0, 0)\n",
    "                    j += 1\n",
    "                    continue\n",
    "                # data\n",
    "                y1, x1 = file[base].to_numpy()\n",
    "                x0 = np.min(x1) ## starting bin, in this case just 90\n",
    "                x1 = x1[:-1] + 0.5\n",
    "                # tspectrum\n",
    "                y2, x2 = file[base + \"A\"].to_numpy()\n",
    "                x2 = x2[:-1] + 0.5 + x0\n",
    "                # peak positions, in found order\n",
    "                x3, y3 = file[base + \"P\"].values()\n",
    "                x3 = x3 + x0\n",
    "                # fitted peak positions and their errors\n",
    "                fx, fx_err = file[base + \"F\"].values()\n",
    "\n",
    "                \n",
    "                # peak positions, sorted xmin to xmax\n",
    "                x3_sortedx = x3[np.argsort(x3)] # sorted by low to high x\n",
    "                y3_sortedx = y3[np.argsort(x3)]\n",
    "                fx = fx[np.argsort(fx)]\n",
    "                fx_err = fx_err[np.argsort(fx)]\n",
    "                \n",
    "                if len(x3_sortedx)!=len(fx):\n",
    "                    raise ValueError(f\"Length mismatch: len(x3_sortedx)={len(x3_sortedx)} is not equal to len(fx)={len(fx)}, somehow the fitting procedure messed up..\")\n",
    "\n",
    "\n",
    "\n",
    "                # proton peaks pV, pVI, ..., pVIII\n",
    "                while len(x3_sortedx)>len(Es0):\n",
    "                    min_y_index = np.argmin(y3_sortedx)\n",
    "                    x3_sortedx = np.delete(x3_sortedx,min_y_index)\n",
    "                    y3_sortedx = np.delete(y3_sortedx,min_y_index)\n",
    "                    fx = np.delete(fx,min_y_index)\n",
    "                    fx_err = np.delete(fx_err,min_y_index)\n",
    "                    \n",
    "                \n",
    "                ### the gaussian fitting routine is very simple and therefore one should expect errors\n",
    "                ### This would explain why x3_sortedx is the better parameter to use for now\n",
    "                #chs = fx\n",
    "                chs = x3_sortedx\n",
    "                popt0, pcov0 = curve_fit(lin, chs, Es0, sigma=Es0_errs, p0=[2, 0])\n",
    "                Ecs = np.array([Es[8*j+i] for i in range(len(x3_sortedx))])\n",
    "                popt, pcov = curve_fit(lin, chs, Ecs, sigma=Es0_errs, p0=[2, 0])\n",
    "                \n",
    "                res0 = np.append(res0, Es0 - lin(chs, *popt0)) ## not energy corrected peak energies\n",
    "                res  = np.append(res, Ecs - lin(chs, *popt)) ## energy corrected peak energies ! the most important one!\n",
    "                \n",
    "                ######################################################################################################################\n",
    "                ## plotting routine for quality control\n",
    "                \"\"\"\n",
    "                fig, axes = plt.subplots(2, 1,gridspec_kw={'height_ratios': [4, 1], 'hspace': 0}, sharex=True)\n",
    "                ax1, ax2 = axes\n",
    "                #plt.sca(axes[0]) ## sets current axes\n",
    "                ax1.errorbar(chs, Ecs, yerr=Es0_errs, capsize=2, marker='o',markersize=3.5, ls='', color='r', label=\"Data points\")\n",
    "                ax1.plot([50, 2000], lin(np.array([50, 2000]), *popt), label=f\"fit vals: {np.round(popt[1],6)} {np.round(popt[0],6)}\", color='k', ls='--')\n",
    "                ax1.legend()\n",
    "                ax1.set_ylabel(\"Energy(keV)\")\n",
    "                ax1.set_title(f\"Linear fit to {base}\")\n",
    "                #plt.sca(axes[1])\n",
    "                ax2.scatter(chs, Ecs - lin(chs, *popt), color='k', s=8)\n",
    "                ax2.hlines(0,50,2000, ls='--', color='k', lw=0.7)\n",
    "                ax2.set_yticks(np.arange(-10,10, 2.5), minor=True)\n",
    "                ax2.set_ylim(-np.max(np.abs(Ecs - lin(chs, *popt)))-2, np.max(np.abs(Ecs - lin(chs, *popt)))+2)\n",
    "                \n",
    "                ax2.set_ylabel(\"Residuals (keV)\")\n",
    "                ax2.set_xlabel(\"Channel\")\n",
    "                \n",
    "                plt.show()\n",
    "                \n",
    "                \n",
    "                \"\"\"\n",
    "                #### output\n",
    "                print(popt[1], popt[0])\n",
    "                j += 1\n"
   ]
  },
  {
   "cell_type": "code",
   "execution_count": 19,
   "metadata": {},
   "outputs": [],
   "source": [
    "np.savetxt(\"res_proton_uncorrected.dat\", res0)\n",
    "np.savetxt(\"res_proton_corrected.dat\", res)"
   ]
  },
  {
   "cell_type": "code",
   "execution_count": null,
   "metadata": {},
   "outputs": [],
   "source": []
  }
 ],
 "metadata": {
  "kernelspec": {
   "display_name": "Python 3",
   "language": "python",
   "name": "python3"
  },
  "language_info": {
   "codemirror_mode": {
    "name": "ipython",
    "version": 3
   },
   "file_extension": ".py",
   "mimetype": "text/x-python",
   "name": "python",
   "nbconvert_exporter": "python",
   "pygments_lexer": "ipython3",
   "version": "3.10.6"
  }
 },
 "nbformat": 4,
 "nbformat_minor": 4
}
