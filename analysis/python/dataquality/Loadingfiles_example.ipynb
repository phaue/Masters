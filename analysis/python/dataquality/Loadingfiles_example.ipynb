{
 "cells": [
  {
   "cell_type": "code",
   "execution_count": 1,
   "metadata": {},
   "outputs": [],
   "source": [
    "import numpy as np\n",
    "import matplotlib.pyplot as plt\n",
    "import uproot\n",
    "import awkward as ak\n",
    "import os\n",
    "import scipy.optimize as sc\n",
    "import matplotlib as mpl\n",
    "import glob\n",
    "from matplotlib.path import Path\n",
    "from collections import Counter\n",
    "from tqdm import tqdm"
   ]
  },
  {
   "cell_type": "code",
   "execution_count": null,
   "metadata": {},
   "outputs": [],
   "source": [
    "datapath = \"/home/haue/repositories/Masters/data/\" \n",
    "Al_path = datapath + \"bananas/Al\"\n",
    "P_path = datapath + \"bananas/P\"\n",
    "Si_path = datapath + \"bananas/Si\"\n",
    "Mg_path = datapath + \"bananas/Mg\"\n",
    "#outputdir = \"/figure_output/\"\n",
    "cuts0 = datapath + \"cuts/idcuts.root\" \n",
    "bancuts = datapath + \"cuts/banana_cuts.root\"\n",
    "cuts1 = datapath + \"cuts/totcuts.root\"\n",
    "\n",
    "Al_files = glob.glob(os.path.join(Al_path, \"*mlio.root\"))\n",
    "P_files = glob.glob(os.path.join(P_path, \"*mlio.root\"))\n",
    "Si_files = glob.glob(os.path.join(Si_path, \"*mlio.root\"))\n",
    "Mg_files = glob.glob(os.path.join(Mg_path, \"*mlio.root\"))"
   ]
  },
  {
   "cell_type": "code",
   "execution_count": 3,
   "metadata": {},
   "outputs": [
    {
     "name": "stderr",
     "output_type": "stream",
     "text": [
      "Processing Al:   0%|           0/56 [00:00<?, ?file/s]"
     ]
    },
    {
     "name": "stderr",
     "output_type": "stream",
     "text": [
      "Processing Al: 100%|██████████ 56/56 [00:34<00:00,  1.64file/s]\n",
      "Processing P: 100%|██████████ 63/63 [01:58<00:00,  1.89s/file]\n",
      "Processing Mg: 100%|██████████ 12/12 [00:14<00:00,  1.18s/file]\n",
      "Processing Si: 100%|██████████ 11/11 [00:28<00:00,  2.59s/file]\n"
     ]
    },
    {
     "name": "stdout",
     "output_type": "stream",
     "text": [
      "Combining all isotopes into 'All'...\n",
      "✅ All data combined successfully!\n"
     ]
    }
   ],
   "source": [
    "# Storing the data in a dictionary for easy access\n",
    "\n",
    "### Should be a more intuitive version than the ones used in Bananachecks...\n",
    "\n",
    "data_files = {\n",
    "    \"Al\": Al_files,\n",
    "    \"P\": P_files,\n",
    "    \"Mg\": Mg_files,\n",
    "    \"Si\": Si_files\n",
    "}\n",
    "data_collection = {\n",
    "      \"Al\": {},\n",
    "    \"P\": {},\n",
    "    \"Mg\": {},\n",
    "    \"Si\": {},\n",
    "    \"All\": {}\n",
    "}\n",
    "\n",
    "data_collection = {isotope: {f\"id{i}\": {key: [] for key in [\"E\", \"fEdep\", \"bEdep\", \"angle\", \"Edep\", \"FI\", \"BI\"]} for i in range(4)} for isotope in data_files}\n",
    "data_collection[\"All\"] = {f\"id{i}\": {key: [] for key in [\"E\", \"fEdep\", \"bEdep\", \"angle\", \"Edep\", \"FI\", \"BI\"]} for i in range(4)}\n",
    "\n",
    "\n",
    "for isotope, files in data_files.items():\n",
    "    #file_progress = tqdm(files, desc=f\"Processing {isotope}\", unit=\"file\", total=len(files), dynamic_ncols=True)\n",
    "    file_progress = tqdm(files, desc=f\"Processing {isotope}\", unit=\"file\", total=len(files), bar_format=\"{l_bar}{bar} {n_fmt}/{total_fmt} [{elapsed}<{remaining}, {rate_fmt}]\")\n",
    "\n",
    "    for file in file_progress:\n",
    "        \n",
    "        ## accesses the tree \"a\" in the root file\n",
    "        r = uproot.open(file)[\"a\"]\n",
    "        ##Dummy array\n",
    "        dum = r.arrays([\"id\", \"E\", \"fEdep\", \"bEdep\", \"angle\", \"Edep\", \"FI\", \"BI\"])\n",
    "        \n",
    "        ## converts it to an awkward array\n",
    "        ids = ak.flatten(dum[\"id\"])\n",
    "        Es = ak.nan_to_num(ak.flatten(dum[\"E\"]) / 1e3)\n",
    "        fEdeps = ak.nan_to_num(ak.flatten(dum[\"fEdep\"]) / 1e3)\n",
    "        bEdeps = ak.nan_to_num(ak.flatten(dum[\"bEdep\"]) / 1e3)\n",
    "        angles = ak.nan_to_num(np.rad2deg(ak.flatten(dum[\"angle\"])))\n",
    "        Edeps = ak.nan_to_num(ak.flatten(dum[\"Edep\"]) / 1e3)\n",
    "        FIs = ak.flatten(dum[\"FI\"])\n",
    "        BIs = ak.flatten(dum[\"BI\"])\n",
    "        \n",
    "        ##Creates entries in data_collection for each key and for each detector for each key\n",
    "        for i in range(4):\n",
    "            mask = (ids==i)\n",
    "            detector_name = f\"id{i}\"\n",
    "            data_collection[isotope][detector_name][\"E\"].extend(Es[mask])\n",
    "            data_collection[isotope][detector_name][\"fEdep\"].extend(fEdeps[mask])\n",
    "            data_collection[isotope][detector_name][\"bEdep\"].extend(bEdeps[mask])\n",
    "            data_collection[isotope][detector_name][\"angle\"].extend(angles[mask])\n",
    "            data_collection[isotope][detector_name][\"Edep\"].extend(Edeps[mask])\n",
    "            data_collection[isotope][detector_name][\"FI\"].extend(FIs[mask])\n",
    "            data_collection[isotope][detector_name][\"BI\"].extend(BIs[mask])\n",
    "        file_progress.set_postfix({\"Completed\": f\"{file_progress.n}/{file_progress.total}\"})\n",
    "    #print(f\"Processing done for {isotope}!\")\n",
    "    \n",
    "\n",
    "tqdm.write(\"Combining all isotopes into 'All'...\")      \n",
    "## Create the \"All\" branch in data_collection\n",
    "for i in range(4):\n",
    "    detector_key = f\"id{i}\"\n",
    "    for key in [\"E\", \"fEdep\", \"bEdep\", \"angle\", \"Edep\", \"FI\", \"BI\"]:\n",
    "        data_collection[\"All\"][detector_key][key] = sum((data_collection[isotope][detector_key][key] for isotope in data_files), [])\n",
    "\n",
    "tqdm.write(\"✅ All data combined successfully!\")\n"
   ]
  },
  {
   "cell_type": "code",
   "execution_count": null,
   "metadata": {},
   "outputs": [],
   "source": [
    "E_kin = (25/57) * 30 #keV\n",
    "m = 25.004109\n",
    "u = 931494.10372 #keV/c^2\n",
    "c = 299792458 # m/s\n",
    "v = np.sqrt(2*E_kin/(m*u))*299792458\n",
    "x = 0.05/v\n",
    "\n",
    "def expdecay(N0, t_, t):\n",
    "    lamb = np.log(2) / t_\n",
    "    return N0-N0*np.exp((-lamb)*t)\n",
    "\n",
    "expdecay(114123, (220.6*10**-3), (x))"
   ]
  },
  {
   "cell_type": "code",
   "execution_count": 5,
   "metadata": {},
   "outputs": [
    {
     "data": {
      "text/plain": [
       "(4089.1772772955087,\n",
       " 5402.973027733798,\n",
       " 4651.5471164166465,\n",
       " 3337.7513659783567,\n",
       " 0.3850000000093132,\n",
       " 0.9596754933807812,\n",
       " 0.9596715587865009)"
      ]
     },
     "execution_count": 5,
     "metadata": {},
     "output_type": "execute_result"
    }
   ],
   "source": [
    "Al25 = 24.99042831\n",
    "Al25_E = 8021.137*25\n",
    "Mg24_E = 8260.71*24\n",
    "Mg24 = 23.985041689\n",
    "p = 1.0078250190\n",
    "frac = 1/(1+(p/Mg24))\n",
    "frac2 = (Al25-p)/Al25\n",
    "peak1 = 7901; peak2=7118; psep = 2271\n",
    "frac*(peak1-1369-psep), frac*(peak1-psep), frac*(peak2-psep), frac*(peak2-psep-1369), Al25_E-Mg24_E-2271, frac,frac2"
   ]
  },
  {
   "cell_type": "code",
   "execution_count": 20,
   "metadata": {},
   "outputs": [
    {
     "data": {
      "text/plain": [
       "(6230.8985023129435, 4675.315896846274, 3843.2600846199166)"
      ]
     },
     "execution_count": 20,
     "metadata": {},
     "output_type": "execute_result"
    }
   ],
   "source": [
    "Ne20 = 19.9924401753\n",
    "p = 1.0078250190\n",
    "frac = (Ne20/(p+Ne20))\n",
    "peak1 = 8976; peak2 = 7609; peak3 = 6468; psep = 2431; twoplus = 4065\n",
    "(peak1-psep)*frac,(peak1-twoplus)*frac, (peak3-psep)*frac"
   ]
  },
  {
   "cell_type": "code",
   "execution_count": null,
   "metadata": {},
   "outputs": [],
   "source": []
  }
 ],
 "metadata": {
  "kernelspec": {
   "display_name": "Python 3",
   "language": "python",
   "name": "python3"
  },
  "language_info": {
   "codemirror_mode": {
    "name": "ipython",
    "version": 3
   },
   "file_extension": ".py",
   "mimetype": "text/x-python",
   "name": "python",
   "nbconvert_exporter": "python",
   "pygments_lexer": "ipython3",
   "version": "3.10.6"
  }
 },
 "nbformat": 4,
 "nbformat_minor": 2
}
