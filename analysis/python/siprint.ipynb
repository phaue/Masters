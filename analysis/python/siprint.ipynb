{
 "cells": [
  {
   "cell_type": "code",
   "execution_count": 1,
   "id": "dc3ac721",
   "metadata": {},
   "outputs": [],
   "source": [
    "import numpy as np\n",
    "import matplotlib.pyplot as plt\n",
    "import uproot\n",
    "import awkward as ak\n",
    "import os\n",
    "import scipy.optimize as sc\n",
    "import glob\n",
    "from matplotlib.ticker import MultipleLocator\n",
    "import subprocess\n",
    "from scipy.optimize import curve_fit\n",
    "from scipy.stats import chi2\n"
   ]
  },
  {
   "cell_type": "code",
   "execution_count": 2,
   "metadata": {},
   "outputs": [],
   "source": [
    "setup_path =\"/home/haue/repositories/Masters/setup/\" \n",
    "data_path = \"/home/haue/repositories/Masters/data/singleprotons/Si/\"\n",
    "Al_files = glob.glob(os.path.join(data_path, \"*mlio.root\"))\n"
   ]
  },
  {
   "cell_type": "code",
   "execution_count": 3,
   "metadata": {},
   "outputs": [],
   "source": [
    "EE2p = np.array([])\n",
    "\n",
    "for batch in uproot.iterate(Al_files, expressions=[\"E\"],\n",
    "                            cut=\"id==3\"):\n",
    "    EE2p=np.append(EE2p, ak.flatten(batch.E))\n"
   ]
  },
  {
   "cell_type": "code",
   "execution_count": 6,
   "id": "87f56df3",
   "metadata": {},
   "outputs": [],
   "source": [
    "import numpy as np\n",
    "\n",
    "# define your bins (same as for plotting)\n",
    "bins = np.arange(0, 9000+10, 10)\n",
    "\n",
    "# compute histogram\n",
    "counts, bin_edges = np.histogram(EE2p, bins=bins)\n",
    "\n",
    "# compute bin centers\n",
    "bin_centers = 0.5 * (bin_edges[:-1] + bin_edges[1:])\n",
    "\n",
    "# stack into two columns (energy, counts)\n",
    "hist_data = np.column_stack((bin_centers, counts))\n",
    "\n",
    "# save to ASCII file\n",
    "np.savetxt(\"10kev.txt\", hist_data, fmt=\"%.1f %d\", header=\"Energy(keV) Counts\")\n"
   ]
  },
  {
   "cell_type": "code",
   "execution_count": 7,
   "id": "60a0b58c",
   "metadata": {},
   "outputs": [],
   "source": [
    "\n",
    "# define your bins (same as for plotting)\n",
    "bins = np.arange(0, 9000+5, 5)\n",
    "\n",
    "# compute histogram\n",
    "counts, bin_edges = np.histogram(EE2p, bins=bins)\n",
    "\n",
    "# compute bin centers\n",
    "bin_centers = 0.5 * (bin_edges[:-1] + bin_edges[1:])\n",
    "\n",
    "# stack into two columns (energy, counts)\n",
    "hist_data = np.column_stack((bin_centers, counts))\n",
    "\n",
    "# save to ASCII file\n",
    "np.savetxt(\"5kev.txt\", hist_data, fmt=\"%.1f %d\", header=\"Energy(keV) Counts\")"
   ]
  },
  {
   "cell_type": "code",
   "execution_count": null,
   "id": "e72cf765",
   "metadata": {},
   "outputs": [],
   "source": []
  }
 ],
 "metadata": {
  "kernelspec": {
   "display_name": "Python 3",
   "language": "python",
   "name": "python3"
  },
  "language_info": {
   "codemirror_mode": {
    "name": "ipython",
    "version": 3
   },
   "file_extension": ".py",
   "mimetype": "text/x-python",
   "name": "python",
   "nbconvert_exporter": "python",
   "pygments_lexer": "ipython3",
   "version": "3.10.6"
  }
 },
 "nbformat": 4,
 "nbformat_minor": 5
}
