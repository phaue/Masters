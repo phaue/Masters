{
 "cells": [
  {
   "cell_type": "code",
   "execution_count": 3,
   "id": "2455fa0e",
   "metadata": {},
   "outputs": [],
   "source": [
    "import numpy as np\n",
    "import matplotlib.pyplot as plt\n",
    "import uproot\n",
    "import awkward as ak\n",
    "import os\n",
    "import scipy.optimize as sc\n",
    "import matplotlib as mpl\n",
    "import glob\n",
    "from matplotlib.path import Path\n",
    "from collections import Counter\n",
    "from tqdm import tqdm"
   ]
  },
  {
   "cell_type": "code",
   "execution_count": 4,
   "id": "86a3af0f",
   "metadata": {},
   "outputs": [],
   "source": [
    "datapath = \"/home/haue/repositories/Masters/data/\" \n",
    "\n",
    "\n",
    "alpha_si_files = glob.glob(os.path.join(datapath+\"singleprotons/Si\", \"*mlio.root\"))\n",
    "pfit_si_files = glob.glob(os.path.join(datapath+\"singleprotons/Si/newpad1\", \"*mlio.root\"))\n",
    "narrow_pfit_si_files = glob.glob(os.path.join(datapath+\"singleprotons/Si/newpad2\", \"*mlio.root\"))\n"
   ]
  },
  {
   "cell_type": "code",
   "execution_count": 5,
   "id": "f97f98b9",
   "metadata": {},
   "outputs": [
    {
     "name": "stderr",
     "output_type": "stream",
     "text": [
      "Processing Si_a: 100%|██████████ 11/11 [00:52<00:00,  4.75s/file]\n",
      "Processing Si_p: 100%|██████████ 11/11 [00:22<00:00,  2.03s/file]\n",
      "Processing Si_np: 100%|██████████ 11/11 [00:37<00:00,  3.39s/file]\n"
     ]
    },
    {
     "name": "stdout",
     "output_type": "stream",
     "text": [
      "Combining all isotopes into 'All'...\n",
      "✅ All data combined successfully!\n"
     ]
    }
   ],
   "source": [
    "# Storing the data in a dictionary for easy access\n",
    "\n",
    "### Should be a more intuitive version than the ones used in Bananachecks...\n",
    "\n",
    "data_files = {\n",
    "    \"Si_a\": alpha_si_files,\n",
    "    \"Si_p\": pfit_si_files,\n",
    "    \"Si_np\": narrow_pfit_si_files\n",
    "\n",
    "}\n",
    "data_collection = {\n",
    "    \"Si_a\": {},\n",
    "    \"Si_p\": {},\n",
    "    \"Si_np\": {}\n",
    "}\n",
    "\n",
    "data_collection = {isotope: {f\"id{i}\": {key: [] for key in [\"E\", \"fEdep\", \"bEdep\", \"angle\", \"Edep\", \"FI\", \"BI\"]} for i in range(4)} for isotope in data_files}\n",
    "data_collection[\"All\"] = {f\"id{i}\": {key: [] for key in [\"E\", \"fEdep\", \"bEdep\", \"angle\", \"Edep\", \"FI\", \"BI\"]} for i in range(4)}\n",
    "\n",
    "\n",
    "for isotope, files in data_files.items():\n",
    "    #file_progress = tqdm(files, desc=f\"Processing {isotope}\", unit=\"file\", total=len(files), dynamic_ncols=True)\n",
    "    file_progress = tqdm(files, desc=f\"Processing {isotope}\", unit=\"file\", total=len(files), bar_format=\"{l_bar}{bar} {n_fmt}/{total_fmt} [{elapsed}<{remaining}, {rate_fmt}]\")\n",
    "\n",
    "    for file in file_progress:\n",
    "        \n",
    "        ## accesses the tree \"a\" in the root file\n",
    "        r = uproot.open(file)[\"a\"]\n",
    "        ##Dummy array\n",
    "        dum = r.arrays([\"id\", \"E\", \"fEdep\", \"bEdep\", \"angle\", \"Edep\", \"FI\", \"BI\"])\n",
    "        \n",
    "        ## converts it to an awkward array\n",
    "        ids = ak.flatten(dum[\"id\"])\n",
    "        Es = ak.nan_to_num(ak.flatten(dum[\"E\"]) / 1e3)\n",
    "        fEdeps = ak.nan_to_num(ak.flatten(dum[\"fEdep\"]) / 1e3)\n",
    "        bEdeps = ak.nan_to_num(ak.flatten(dum[\"bEdep\"]) / 1e3)\n",
    "        angles = ak.nan_to_num(np.rad2deg(ak.flatten(dum[\"angle\"])))\n",
    "        Edeps = ak.nan_to_num(ak.flatten(dum[\"Edep\"]) / 1e3)\n",
    "        FIs = ak.flatten(dum[\"FI\"])\n",
    "        BIs = ak.flatten(dum[\"BI\"])\n",
    "        \n",
    "        ##Creates entries in data_collection for each key and for each detector for each key\n",
    "        for i in range(4):\n",
    "            mask = (ids==i)\n",
    "            detector_name = f\"id{i}\"\n",
    "            data_collection[isotope][detector_name][\"E\"].extend(Es[mask])\n",
    "            data_collection[isotope][detector_name][\"fEdep\"].extend(fEdeps[mask])\n",
    "            data_collection[isotope][detector_name][\"bEdep\"].extend(bEdeps[mask])\n",
    "            data_collection[isotope][detector_name][\"angle\"].extend(angles[mask])\n",
    "            data_collection[isotope][detector_name][\"Edep\"].extend(Edeps[mask])\n",
    "            data_collection[isotope][detector_name][\"FI\"].extend(FIs[mask])\n",
    "            data_collection[isotope][detector_name][\"BI\"].extend(BIs[mask])\n",
    "        file_progress.set_postfix({\"Completed\": f\"{file_progress.n}/{file_progress.total}\"})\n",
    "    #print(f\"Processing done for {isotope}!\")\n",
    "    \n",
    "\n",
    "tqdm.write(\"Combining all isotopes into 'All'...\")      \n",
    "## Create the \"All\" branch in data_collection\n",
    "for i in range(4):\n",
    "    detector_key = f\"id{i}\"\n",
    "    for key in [\"E\", \"fEdep\", \"bEdep\", \"angle\", \"Edep\", \"FI\", \"BI\"]:\n",
    "        data_collection[\"All\"][detector_key][key] = sum((data_collection[isotope][detector_key][key] for isotope in data_files), [])\n",
    "\n",
    "tqdm.write(\"✅ All data combined successfully!\")\n"
   ]
  },
  {
   "cell_type": "code",
   "execution_count": null,
   "id": "2d6bcdf5",
   "metadata": {},
   "outputs": [],
   "source": []
  }
 ],
 "metadata": {
  "kernelspec": {
   "display_name": "Python 3",
   "language": "python",
   "name": "python3"
  },
  "language_info": {
   "codemirror_mode": {
    "name": "ipython",
    "version": 3
   },
   "file_extension": ".py",
   "mimetype": "text/x-python",
   "name": "python",
   "nbconvert_exporter": "python",
   "pygments_lexer": "ipython3",
   "version": "3.10.6"
  }
 },
 "nbformat": 4,
 "nbformat_minor": 5
}
