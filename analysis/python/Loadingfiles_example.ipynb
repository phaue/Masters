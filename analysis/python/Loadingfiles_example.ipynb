{
 "cells": [
  {
   "cell_type": "code",
   "execution_count": 1,
   "metadata": {},
   "outputs": [],
   "source": [
    "import numpy as np\n",
    "import matplotlib.pyplot as plt\n",
    "import uproot\n",
    "import awkward as ak\n",
    "import os\n",
    "import scipy.optimize as sc\n",
    "import matplotlib as mpl\n",
    "import glob\n",
    "from matplotlib.path import Path\n",
    "from collections import Counter\n",
    "from tqdm import tqdm"
   ]
  },
  {
   "cell_type": "code",
   "execution_count": null,
   "metadata": {},
   "outputs": [],
   "source": [
    "datapath = \"/home/haue/repositories/Masters/data/\" \n",
    "Al_path = datapath + \"bananas/Al\"\n",
    "P_path = datapath + \"bananas/P\"\n",
    "Si_path = datapath + \"bananas/Si\"\n",
    "Mg_path = datapath + \"bananas/Mg\"\n",
    "#outputdir = \"/figure_output/\"\n",
    "cuts0 = datapath + \"cuts/idcuts.root\" \n",
    "bancuts = datapath + \"cuts/banana_cuts.root\"\n",
    "cuts1 = datapath + \"cuts/totcuts.root\"\n",
    "\n",
    "Al_files = glob.glob(os.path.join(Al_path, \"*mlio.root\"))\n",
    "P_files = glob.glob(os.path.join(P_path, \"*mlio.root\"))\n",
    "Si_files = glob.glob(os.path.join(Si_path, \"*mlio.root\"))\n",
    "Mg_files = glob.glob(os.path.join(Mg_path, \"*mlio.root\"))"
   ]
  },
  {
   "cell_type": "code",
   "execution_count": 3,
   "metadata": {},
   "outputs": [
    {
     "name": "stderr",
     "output_type": "stream",
     "text": [
      "Processing Al:   0%|           0/56 [00:00<?, ?file/s]"
     ]
    },
    {
     "name": "stderr",
     "output_type": "stream",
     "text": [
      "Processing Al: 100%|██████████ 56/56 [00:34<00:00,  1.64file/s]\n",
      "Processing P: 100%|██████████ 63/63 [01:58<00:00,  1.89s/file]\n",
      "Processing Mg: 100%|██████████ 12/12 [00:14<00:00,  1.18s/file]\n",
      "Processing Si: 100%|██████████ 11/11 [00:28<00:00,  2.59s/file]\n"
     ]
    },
    {
     "name": "stdout",
     "output_type": "stream",
     "text": [
      "Combining all isotopes into 'All'...\n",
      "✅ All data combined successfully!\n"
     ]
    }
   ],
   "source": [
    "# Storing the data in a dictionary for easy access\n",
    "\n",
    "### Should be a more intuitive version than the ones used in Bananachecks...\n",
    "\n",
    "data_files = {\n",
    "    \"Al\": Al_files,\n",
    "    \"P\": P_files,\n",
    "    \"Mg\": Mg_files,\n",
    "    \"Si\": Si_files\n",
    "}\n",
    "data_collection = {\n",
    "      \"Al\": {},\n",
    "    \"P\": {},\n",
    "    \"Mg\": {},\n",
    "    \"Si\": {},\n",
    "    \"All\": {}\n",
    "}\n",
    "\n",
    "data_collection = {isotope: {f\"id{i}\": {key: [] for key in [\"E\", \"fEdep\", \"bEdep\", \"angle\", \"Edep\", \"FI\", \"BI\"]} for i in range(4)} for isotope in data_files}\n",
    "data_collection[\"All\"] = {f\"id{i}\": {key: [] for key in [\"E\", \"fEdep\", \"bEdep\", \"angle\", \"Edep\", \"FI\", \"BI\"]} for i in range(4)}\n",
    "\n",
    "\n",
    "for isotope, files in data_files.items():\n",
    "    #file_progress = tqdm(files, desc=f\"Processing {isotope}\", unit=\"file\", total=len(files), dynamic_ncols=True)\n",
    "    file_progress = tqdm(files, desc=f\"Processing {isotope}\", unit=\"file\", total=len(files), bar_format=\"{l_bar}{bar} {n_fmt}/{total_fmt} [{elapsed}<{remaining}, {rate_fmt}]\")\n",
    "\n",
    "    for file in file_progress:\n",
    "        \n",
    "        ## accesses the tree \"a\" in the root file\n",
    "        r = uproot.open(file)[\"a\"]\n",
    "        ##Dummy array\n",
    "        dum = r.arrays([\"id\", \"E\", \"fEdep\", \"bEdep\", \"angle\", \"Edep\", \"FI\", \"BI\"])\n",
    "        \n",
    "        ## converts it to an awkward array\n",
    "        ids = ak.flatten(dum[\"id\"])\n",
    "        Es = ak.nan_to_num(ak.flatten(dum[\"E\"]) / 1e3)\n",
    "        fEdeps = ak.nan_to_num(ak.flatten(dum[\"fEdep\"]) / 1e3)\n",
    "        bEdeps = ak.nan_to_num(ak.flatten(dum[\"bEdep\"]) / 1e3)\n",
    "        angles = ak.nan_to_num(np.rad2deg(ak.flatten(dum[\"angle\"])))\n",
    "        Edeps = ak.nan_to_num(ak.flatten(dum[\"Edep\"]) / 1e3)\n",
    "        FIs = ak.flatten(dum[\"FI\"])\n",
    "        BIs = ak.flatten(dum[\"BI\"])\n",
    "        \n",
    "        ##Creates entries in data_collection for each key and for each detector for each key\n",
    "        for i in range(4):\n",
    "            mask = (ids==i)\n",
    "            detector_name = f\"id{i}\"\n",
    "            data_collection[isotope][detector_name][\"E\"].extend(Es[mask])\n",
    "            data_collection[isotope][detector_name][\"fEdep\"].extend(fEdeps[mask])\n",
    "            data_collection[isotope][detector_name][\"bEdep\"].extend(bEdeps[mask])\n",
    "            data_collection[isotope][detector_name][\"angle\"].extend(angles[mask])\n",
    "            data_collection[isotope][detector_name][\"Edep\"].extend(Edeps[mask])\n",
    "            data_collection[isotope][detector_name][\"FI\"].extend(FIs[mask])\n",
    "            data_collection[isotope][detector_name][\"BI\"].extend(BIs[mask])\n",
    "        file_progress.set_postfix({\"Completed\": f\"{file_progress.n}/{file_progress.total}\"})\n",
    "    #print(f\"Processing done for {isotope}!\")\n",
    "    \n",
    "\n",
    "tqdm.write(\"Combining all isotopes into 'All'...\")      \n",
    "## Create the \"All\" branch in data_collection\n",
    "for i in range(4):\n",
    "    detector_key = f\"id{i}\"\n",
    "    for key in [\"E\", \"fEdep\", \"bEdep\", \"angle\", \"Edep\", \"FI\", \"BI\"]:\n",
    "        data_collection[\"All\"][detector_key][key] = sum((data_collection[isotope][detector_key][key] for isotope in data_files), [])\n",
    "\n",
    "tqdm.write(\"✅ All data combined successfully!\")\n"
   ]
  },
  {
   "cell_type": "code",
   "execution_count": 2,
   "metadata": {},
   "outputs": [
    {
     "data": {
      "text/plain": [
       "0.056263905120431446"
      ]
     },
     "execution_count": 2,
     "metadata": {},
     "output_type": "execute_result"
    }
   ],
   "source": [
    "E_kin = (25/57) * 30 #keV\n",
    "m = 25.004109\n",
    "u = 931494.10372 #keV/c^2\n",
    "c = 299792458 # m/s\n",
    "v = np.sqrt(2*E_kin/(m*u))*299792458\n",
    "x = 0.05/v\n",
    "\n",
    "def expdecay(N0, t_, t):\n",
    "    lamb = np.log(2) / t_\n",
    "    return N0-N0*np.exp((-lamb)*t)\n",
    "\n",
    "expdecay(114123, (220.6*10**-3), (x))"
   ]
  },
  {
   "cell_type": "code",
   "execution_count": 3,
   "metadata": {},
   "outputs": [
    {
     "data": {
      "text/plain": [
       "([(2673.3, 385.72237105453763, 0.5786771607068808),\n",
       "  (4192, 1843.1815428519299, 3.8391338032060935),\n",
       "  (4582, 2217.4549852704345, 1.9202145004587217),\n",
       "  (7118, 4651.192036484095, 4.798722937645029),\n",
       "  (7901, 5402.617947801247, 1.9202145004587354)],\n",
       " [(4582, 904.0191131421628, 1.920220495723927),\n",
       "  (5804, 2076.7425660534773, 3.8391368018535106),\n",
       "  (7118, 3337.756164355824, 4.798725336660437),\n",
       "  (7901, 4089.1820756729758, 1.920220495723936)],\n",
       " (6829, 1730.8841553184843, 3.8391483166378255),\n",
       " 0.9596754933807812)"
      ]
     },
     "execution_count": 3,
     "metadata": {},
     "output_type": "execute_result"
    }
   ],
   "source": [
    "Mg24 = 23.985041689\n",
    "Mg24_err = 0.000000014\n",
    "p = 1.0078250190\n",
    "p_err = 0.0000000010\n",
    "frac = (Mg24/(Mg24+p))\n",
    "frac_err = np.sqrt((p/(Mg24+p)**2)**2 * Mg24_err**2 + (Mg24/(p+Mg24)**2)**2 * p_err**2)\n",
    "p1 = 2673.3; p2 = 4192; p3 = 4582;p4=5804;p5 = 6829;p6 = 7118;p7=7901\n",
    "p1_err = 0.6; p2_err = 4; p3_err = 2;p4_err=4;p5_err = 4;p6_err = 5;p7_err=2\n",
    "psep = 2271.37; g1=1368.625; g2=2754.016\n",
    "psep_err = 0.06; g1_err = 0.005; g2_err = 0.011\n",
    "\n",
    "def withg(p,p_err,gam,gam_err):\n",
    "    return (p,frac*(p-psep-gam), np.sqrt((p-psep-gam)**2 * frac_err**2 + frac**2 * p_err**2 + frac**2 * psep_err**2 + frac**2 * gam_err**2))\n",
    "def withoutg(p,p_err):\n",
    "    return  (p,frac*(p-psep), np.sqrt((p-psep)**2 * frac_err**2 + frac**2 * p_err**2 + frac**2 * psep_err**2))\n",
    "#vals = [frac*(peak1-gam-psep), frac*(peak1-psep), frac*(peak2-psep), frac*(peak2-psep-gam),frac*(5804-psep-gam), frac*(2673.3-psep), frac*(4192-psep), frac*(4582-psep), frac*(4582-psep-gam), frac*(6829-psep-g2), frac*(7646-psep)]\n",
    "#sorted(vals), vals\n",
    "peaks_withoutg = [withoutg(i,j) for i,j in zip([p1,p2,p3,p6,p7], [p1_err,p2_err,p3_err,p6_err,p7_err])]\n",
    "peaks_withg1 = [withg(i,j,g1,g1_err) for i,j in zip([p3,p4,p6,p7],[p3_err,p4_err,p6_err,p7_err])]\n",
    "peaks_withg2 = withg(p5,p5_err,g2,g2_err)\n",
    "peaks_withoutg, peaks_withg1, peaks_withg2, frac\n",
    "#sorted(vals)"
   ]
  },
  {
   "cell_type": "code",
   "execution_count": 4,
   "metadata": {},
   "outputs": [
    {
     "data": {
      "text/plain": [
       "(6230.8985023129435,\n",
       " 4675.315896846274,\n",
       " 1773.5926523772366,\n",
       " 1939.242207671729,\n",
       " 1251.8917540934333)"
      ]
     },
     "execution_count": 4,
     "metadata": {},
     "output_type": "execute_result"
    }
   ],
   "source": [
    "Ne20 = 19.9924401753\n",
    "p = 1.0078250190\n",
    "frac = (Ne20/(p+Ne20))\n",
    "peak1 = 8976; peak2 = 4468; peak3 = 4294; psep = 2431; twoplus = 4065\n",
    "(peak1-psep)*frac,(peak1-twoplus)*frac, (peak3-psep)*frac, (peak2-psep)*frac, (5380-psep-4065+2431)*frac\n"
   ]
  },
  {
   "cell_type": "code",
   "execution_count": 3,
   "metadata": {},
   "outputs": [
    {
     "data": {
      "text/plain": [
       "(7210.41519469579, -84.98265349582107)"
      ]
     },
     "execution_count": 3,
     "metadata": {},
     "output_type": "execute_result"
    }
   ],
   "source": [
    "Al25 = 24.99042831\n",
    "frac = (Al25/(p+Al25))\n",
    "peak = 13015; psep= 5513.8; gam=970\n",
    "(peak-psep)*frac, (peak-psep-gam)*frac-6363"
   ]
  },
  {
   "cell_type": "code",
   "execution_count": 4,
   "metadata": {},
   "outputs": [
    {
     "data": {
      "text/plain": [
       "0.9542011788490329"
      ]
     },
     "execution_count": 4,
     "metadata": {},
     "output_type": "execute_result"
    }
   ],
   "source": [
    "import numpy as np\n",
    "Na21 =20.99765446\n",
    "frac = (Na21/(p+Na21))\n",
    "id3 = np.array([688.3, 1247.7, 2488.1, 3885.3, 5464.7, 6522.5])\n",
    "idless = np.array([691.7, 1250.8, 2476.8, 3885.3, 5464.6, 6526.4]) # much wider peaks\n",
    "frac\n"
   ]
  },
  {
   "cell_type": "code",
   "execution_count": null,
   "metadata": {},
   "outputs": [],
   "source": []
  }
 ],
 "metadata": {
  "kernelspec": {
   "display_name": "Python 3",
   "language": "python",
   "name": "python3"
  },
  "language_info": {
   "codemirror_mode": {
    "name": "ipython",
    "version": 3
   },
   "file_extension": ".py",
   "mimetype": "text/x-python",
   "name": "python",
   "nbconvert_exporter": "python",
   "pygments_lexer": "ipython3",
   "version": "3.10.6"
  }
 },
 "nbformat": 4,
 "nbformat_minor": 2
}
